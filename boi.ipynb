{
 "cells": [
  {
   "cell_type": "markdown",
   "metadata": {},
   "source": [
    "# INSULT"
   ]
  },
  {
   "cell_type": "code",
   "execution_count": 82,
   "metadata": {},
   "outputs": [
    {
     "name": "stdout",
     "output_type": "stream",
     "text": [
      "buthurt\n",
      "poo\n"
     ]
    }
   ],
   "source": [
    "from random import randint\n",
    "adList = ['old', 'buthurt', 'salty', 'fat', 'dumb', 'stupid', 'triggered']\n",
    "noList = ['Cow', 'Dog', 'Pig', 'dwarf', 'poo', 'boat', 'train']\n",
    "print(adList[randint(0,(len(adList))-1)])\n",
    "print(noList[randint(0,(len(noList))-1)])\n",
    "\n"
   ]
  }
 ],
 "metadata": {
  "kernelspec": {
   "display_name": "Python 3",
   "language": "python",
   "name": "python3"
  },
  "language_info": {
   "codemirror_mode": {
    "name": "ipython",
    "version": 3
   },
   "file_extension": ".py",
   "mimetype": "text/x-python",
   "name": "python",
   "nbconvert_exporter": "python",
   "pygments_lexer": "ipython3",
   "version": "3.5.2"
  }
 },
 "nbformat": 4,
 "nbformat_minor": 2
}
