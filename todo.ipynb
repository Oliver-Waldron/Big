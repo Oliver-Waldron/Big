{
 "cells": [
  {
   "cell_type": "code",
   "execution_count": 14,
   "metadata": {},
   "outputs": [],
   "source": [
    "lists = [\"\",\"\"]\n",
    "x = \"y\"\n",
    "while x == \"x\":\n",
    "    inp = input(\"type add to add type read to read and type x to exit\")\n",
    "    if inp == \"add\" or inp == \"add\":\n",
    "        li = input(\"put in something to do.\")\n",
    "        lists.append(li)\n",
    "    elif inp == \"read\":\n",
    "        print(list)\n",
    "    else:\n",
    "        x = input(\"u sure about that\")\n",
    "        x == \"x\"\n",
    "    \n",
    " \n"
   ]
  }
 ],
 "metadata": {
  "kernelspec": {
   "display_name": "Python 3",
   "language": "python",
   "name": "python3"
  },
  "language_info": {
   "codemirror_mode": {
    "name": "ipython",
    "version": 3
   },
   "file_extension": ".py",
   "mimetype": "text/x-python",
   "name": "python",
   "nbconvert_exporter": "python",
   "pygments_lexer": "ipython3",
   "version": "3.5.2"
  }
 },
 "nbformat": 4,
 "nbformat_minor": 2
}
